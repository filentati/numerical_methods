{
 "cells": [
  {
   "cell_type": "code",
   "execution_count": 31,
   "id": "b3bc6ad7-4b27-43fb-a094-fc3b3d559a28",
   "metadata": {},
   "outputs": [],
   "source": [
    "import numpy as np\n",
    "import sympy as sp"
   ]
  },
  {
   "cell_type": "code",
   "execution_count": 33,
   "id": "e492b336-cb79-4287-8e47-e0ba9f7c4cb9",
   "metadata": {},
   "outputs": [],
   "source": [
    "x, y, z = sp.symbols('x y z')"
   ]
  },
  {
   "cell_type": "code",
   "execution_count": 35,
   "id": "4db9c810-91f2-4933-8b57-dbf79d1f5c05",
   "metadata": {},
   "outputs": [],
   "source": [
    "f1 = (x**5) - 2.1*(z**2) - 3*(x**2)*(y**4) - 17.9\n",
    "f2 = 0.6*y*(z**3) + 17*(x**2)*(y**3) - 20.9 + 14.7\n",
    "f3 = 5.2*(y**5) - 2.5*(z**4)*(x**2) + 4.8"
   ]
  },
  {
   "cell_type": "code",
   "execution_count": 37,
   "id": "505b00bf-d614-4e6c-acc8-dfe178a22ca6",
   "metadata": {},
   "outputs": [
    {
     "data": {
      "text/latex": [
       "$\\displaystyle \\left[\\begin{matrix}x^{5} - 3 x^{2} y^{4} - 2.1 z^{2} - 17.9\\\\17 x^{2} y^{3} + 0.6 y z^{3} - 6.2\\\\- 2.5 x^{2} z^{4} + 5.2 y^{5} + 4.8\\end{matrix}\\right]$"
      ],
      "text/plain": [
       "Matrix([\n",
       "[x**5 - 3*x**2*y**4 - 2.1*z**2 - 17.9],\n",
       "[     17*x**2*y**3 + 0.6*y*z**3 - 6.2],\n",
       "[     -2.5*x**2*z**4 + 5.2*y**5 + 4.8]])"
      ]
     },
     "execution_count": 37,
     "metadata": {},
     "output_type": "execute_result"
    }
   ],
   "source": [
    "F = sp.Matrix([f1, f2, f3])\n",
    "F"
   ]
  },
  {
   "cell_type": "code",
   "execution_count": 39,
   "id": "aeaa708c-452e-4712-9e58-5fec596c2463",
   "metadata": {},
   "outputs": [
    {
     "data": {
      "text/latex": [
       "$\\displaystyle \\left[\\begin{matrix}5 x^{4} - 6 x y^{4} & - 12 x^{2} y^{3} & - 4.2 z\\\\34 x y^{3} & 51 x^{2} y^{2} + 0.6 z^{3} & 1.8 y z^{2}\\\\- 5.0 x z^{4} & 26.0 y^{4} & - 10.0 x^{2} z^{3}\\end{matrix}\\right]$"
      ],
      "text/plain": [
       "Matrix([\n",
       "[5*x**4 - 6*x*y**4,           -12*x**2*y**3,          -4.2*z],\n",
       "[        34*x*y**3, 51*x**2*y**2 + 0.6*z**3,      1.8*y*z**2],\n",
       "[      -5.0*x*z**4,               26.0*y**4, -10.0*x**2*z**3]])"
      ]
     },
     "execution_count": 39,
     "metadata": {},
     "output_type": "execute_result"
    }
   ],
   "source": [
    "jacobian_matrix = F.jacobian([x, y, z])\n",
    "jacobian_matrix"
   ]
  },
  {
   "cell_type": "code",
   "execution_count": 56,
   "id": "a0e00476-3fdf-4f01-8c51-84a3aedf184a",
   "metadata": {},
   "outputs": [],
   "source": [
    "def check_convergence(point, point_new, eps=1e-6):\n",
    "    return np.linalg.norm(np.array(point_new).astype(np.float64) - np.array(point).astype(np.float64)) < eps"
   ]
  },
  {
   "cell_type": "code",
   "execution_count": 58,
   "id": "2fa2947b-39f4-4d86-b242-353d8df0f2b8",
   "metadata": {},
   "outputs": [],
   "source": [
    "def tangent_method(v,  max_iter=100):\n",
    "    point = sp.Matrix(v)\n",
    "    for i in range(max_iter):\n",
    "        inverse_jacobian = jacobian_matrix.subs({x: point[0], y: point[1], z: point[2]}).inv()\n",
    "        F_eval = F.subs({x: point[0], y: point[1], z: point[2]})\n",
    "        point_new = point - inverse_jacobian * F_eval\n",
    "        if check_convergence(point, point_new):\n",
    "            return point_new\n",
    "        point = point_new\n",
    "    print(\"Метод Ньютона не сошелся.\")\n",
    "    return None"
   ]
  },
  {
   "cell_type": "code",
   "execution_count": 60,
   "id": "9baed12f-a690-43db-af94-530d958b8543",
   "metadata": {},
   "outputs": [
    {
     "data": {
      "text/latex": [
       "$\\displaystyle \\left[\\begin{matrix}1.82095029864267\\\\0.474114380123766\\\\0.877926312169167\\end{matrix}\\right]$"
      ],
      "text/plain": [
       "Matrix([\n",
       "[ 1.82095029864267],\n",
       "[0.474114380123766],\n",
       "[0.877926312169167]])"
      ]
     },
     "execution_count": 60,
     "metadata": {},
     "output_type": "execute_result"
    }
   ],
   "source": [
    "v = [1.0, 1.0, 1.0]\n",
    "solution = tangent_method(v)\n",
    "solution"
   ]
  }
 ],
 "metadata": {
  "kernelspec": {
   "display_name": "Python 3 (ipykernel)",
   "language": "python",
   "name": "python3"
  },
  "language_info": {
   "codemirror_mode": {
    "name": "ipython",
    "version": 3
   },
   "file_extension": ".py",
   "mimetype": "text/x-python",
   "name": "python",
   "nbconvert_exporter": "python",
   "pygments_lexer": "ipython3",
   "version": "3.12.4"
  }
 },
 "nbformat": 4,
 "nbformat_minor": 5
}
